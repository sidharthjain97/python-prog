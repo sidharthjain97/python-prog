{
 "cells": [
  {
   "cell_type": "code",
   "execution_count": 1,
   "id": "26fa64c1",
   "metadata": {},
   "outputs": [],
   "source": [
    "import numpy as np\n",
    "from scipy.spatial.distance import cdist \n",
    "# from sklearn.cluster import KMeans\n",
    "import pandas as pd\n",
    "from sklearn.metrics.pairwise import euclidean_distances"
   ]
  },
  {
   "cell_type": "code",
   "execution_count": 2,
   "id": "7c7c59ad",
   "metadata": {},
   "outputs": [],
   "source": [
    "df = pd.read_csv(\"30coordinate.csv\")"
   ]
  },
  {
   "cell_type": "code",
   "execution_count": 3,
   "id": "27917f39",
   "metadata": {},
   "outputs": [
    {
     "data": {
      "text/html": [
       "<div>\n",
       "<style scoped>\n",
       "    .dataframe tbody tr th:only-of-type {\n",
       "        vertical-align: middle;\n",
       "    }\n",
       "\n",
       "    .dataframe tbody tr th {\n",
       "        vertical-align: top;\n",
       "    }\n",
       "\n",
       "    .dataframe thead th {\n",
       "        text-align: right;\n",
       "    }\n",
       "</style>\n",
       "<table border=\"1\" class=\"dataframe\">\n",
       "  <thead>\n",
       "    <tr style=\"text-align: right;\">\n",
       "      <th></th>\n",
       "      <th>x</th>\n",
       "      <th>y</th>\n",
       "    </tr>\n",
       "  </thead>\n",
       "  <tbody>\n",
       "    <tr>\n",
       "      <th>0</th>\n",
       "      <td>1</td>\n",
       "      <td>6</td>\n",
       "    </tr>\n",
       "    <tr>\n",
       "      <th>1</th>\n",
       "      <td>1</td>\n",
       "      <td>3</td>\n",
       "    </tr>\n",
       "  </tbody>\n",
       "</table>\n",
       "</div>"
      ],
      "text/plain": [
       "   x  y\n",
       "0  1  6\n",
       "1  1  3"
      ]
     },
     "execution_count": 3,
     "metadata": {},
     "output_type": "execute_result"
    }
   ],
   "source": [
    "df.head(2)"
   ]
  },
  {
   "cell_type": "code",
   "execution_count": 4,
   "id": "7ef7f113",
   "metadata": {},
   "outputs": [
    {
     "name": "stdout",
     "output_type": "stream",
     "text": [
      "[7, 13, 18, 21, 15]\n",
      "[7, 13, 18, 21]\n"
     ]
    }
   ],
   "source": [
    "processing_element = 16\n",
    "centroids = [8, 14, 19, 22]\n",
    "centroids = [x-1 for x in centroids]\n",
    "\n",
    "remove_nodes = centroids.copy()\n",
    "remove_nodes.append(processing_element-1)\n",
    "# remove_nodes = [x-1 for x in remove_nodes]\n",
    "print(remove_nodes)\n",
    "print(centroids)"
   ]
  },
  {
   "cell_type": "code",
   "execution_count": 5,
   "id": "d2166f78",
   "metadata": {},
   "outputs": [],
   "source": [
    "centroids_df = df.iloc[centroids]"
   ]
  },
  {
   "cell_type": "code",
   "execution_count": 6,
   "id": "9212020f",
   "metadata": {
    "scrolled": true
   },
   "outputs": [
    {
     "data": {
      "text/html": [
       "<div>\n",
       "<style scoped>\n",
       "    .dataframe tbody tr th:only-of-type {\n",
       "        vertical-align: middle;\n",
       "    }\n",
       "\n",
       "    .dataframe tbody tr th {\n",
       "        vertical-align: top;\n",
       "    }\n",
       "\n",
       "    .dataframe thead th {\n",
       "        text-align: right;\n",
       "    }\n",
       "</style>\n",
       "<table border=\"1\" class=\"dataframe\">\n",
       "  <thead>\n",
       "    <tr style=\"text-align: right;\">\n",
       "      <th></th>\n",
       "      <th>x</th>\n",
       "      <th>y</th>\n",
       "    </tr>\n",
       "  </thead>\n",
       "  <tbody>\n",
       "    <tr>\n",
       "      <th>7</th>\n",
       "      <td>5</td>\n",
       "      <td>-2</td>\n",
       "    </tr>\n",
       "    <tr>\n",
       "      <th>13</th>\n",
       "      <td>6</td>\n",
       "      <td>4</td>\n",
       "    </tr>\n",
       "    <tr>\n",
       "      <th>18</th>\n",
       "      <td>11</td>\n",
       "      <td>-3</td>\n",
       "    </tr>\n",
       "    <tr>\n",
       "      <th>21</th>\n",
       "      <td>11</td>\n",
       "      <td>4</td>\n",
       "    </tr>\n",
       "  </tbody>\n",
       "</table>\n",
       "</div>"
      ],
      "text/plain": [
       "     x  y\n",
       "7    5 -2\n",
       "13   6  4\n",
       "18  11 -3\n",
       "21  11  4"
      ]
     },
     "execution_count": 6,
     "metadata": {},
     "output_type": "execute_result"
    }
   ],
   "source": [
    "centroids_df"
   ]
  },
  {
   "cell_type": "code",
   "execution_count": null,
   "id": "a7f0a9f2",
   "metadata": {},
   "outputs": [],
   "source": []
  },
  {
   "cell_type": "code",
   "execution_count": 7,
   "id": "afa7b0f5",
   "metadata": {},
   "outputs": [
    {
     "data": {
      "text/plain": [
       "array([[ 5, -2],\n",
       "       [ 6,  4],\n",
       "       [11, -3],\n",
       "       [11,  4]], dtype=int64)"
      ]
     },
     "execution_count": 7,
     "metadata": {},
     "output_type": "execute_result"
    }
   ],
   "source": [
    "cent_coords = centroids_df.to_numpy()\n",
    "cent_coords"
   ]
  },
  {
   "cell_type": "code",
   "execution_count": 8,
   "id": "a99c7746",
   "metadata": {},
   "outputs": [
    {
     "data": {
      "text/plain": [
       "array([ 5, -2], dtype=int64)"
      ]
     },
     "execution_count": 8,
     "metadata": {},
     "output_type": "execute_result"
    }
   ],
   "source": [
    "cent_coords[0]"
   ]
  },
  {
   "cell_type": "code",
   "execution_count": 9,
   "id": "6e257d79",
   "metadata": {},
   "outputs": [],
   "source": [
    "df.drop(remove_nodes, axis=0, inplace=True)"
   ]
  },
  {
   "cell_type": "code",
   "execution_count": 10,
   "id": "0cd7819f",
   "metadata": {},
   "outputs": [
    {
     "data": {
      "text/html": [
       "<div>\n",
       "<style scoped>\n",
       "    .dataframe tbody tr th:only-of-type {\n",
       "        vertical-align: middle;\n",
       "    }\n",
       "\n",
       "    .dataframe tbody tr th {\n",
       "        vertical-align: top;\n",
       "    }\n",
       "\n",
       "    .dataframe thead th {\n",
       "        text-align: right;\n",
       "    }\n",
       "</style>\n",
       "<table border=\"1\" class=\"dataframe\">\n",
       "  <thead>\n",
       "    <tr style=\"text-align: right;\">\n",
       "      <th></th>\n",
       "      <th>x</th>\n",
       "      <th>y</th>\n",
       "    </tr>\n",
       "  </thead>\n",
       "  <tbody>\n",
       "    <tr>\n",
       "      <th>0</th>\n",
       "      <td>1</td>\n",
       "      <td>6</td>\n",
       "    </tr>\n",
       "    <tr>\n",
       "      <th>1</th>\n",
       "      <td>1</td>\n",
       "      <td>3</td>\n",
       "    </tr>\n",
       "  </tbody>\n",
       "</table>\n",
       "</div>"
      ],
      "text/plain": [
       "   x  y\n",
       "0  1  6\n",
       "1  1  3"
      ]
     },
     "execution_count": 10,
     "metadata": {},
     "output_type": "execute_result"
    }
   ],
   "source": [
    "df.head(2)"
   ]
  },
  {
   "cell_type": "code",
   "execution_count": 11,
   "id": "5a2aebb0",
   "metadata": {},
   "outputs": [
    {
     "data": {
      "text/plain": [
       "25"
      ]
     },
     "execution_count": 11,
     "metadata": {},
     "output_type": "execute_result"
    }
   ],
   "source": [
    "len(df)"
   ]
  },
  {
   "cell_type": "code",
   "execution_count": 12,
   "id": "0fb57c4c",
   "metadata": {},
   "outputs": [],
   "source": [
    "np_df = df.to_numpy()"
   ]
  },
  {
   "cell_type": "code",
   "execution_count": 13,
   "id": "5665e27a",
   "metadata": {},
   "outputs": [
    {
     "data": {
      "text/plain": [
       "array([[ 1,  6],\n",
       "       [ 1,  3],\n",
       "       [ 2, -1],\n",
       "       [ 2, -4],\n",
       "       [ 1, -5],\n",
       "       [ 1, -8],\n",
       "       [ 5, -8],\n",
       "       [ 3,  6],\n",
       "       [ 4,  9],\n",
       "       [ 2, 11],\n",
       "       [ 6,  9],\n",
       "       [ 6,  6],\n",
       "       [ 7,  1],\n",
       "       [ 7, -5],\n",
       "       [12, -7],\n",
       "       [10, -1],\n",
       "       [10,  1],\n",
       "       [ 9,  7],\n",
       "       [11, 11],\n",
       "       [13, 10],\n",
       "       [13,  6],\n",
       "       [16,  6],\n",
       "       [15,  3],\n",
       "       [15, -3],\n",
       "       [15, -7]], dtype=int64)"
      ]
     },
     "execution_count": 13,
     "metadata": {},
     "output_type": "execute_result"
    }
   ],
   "source": [
    "np_df"
   ]
  },
  {
   "cell_type": "code",
   "execution_count": 14,
   "id": "13453056",
   "metadata": {},
   "outputs": [
    {
     "data": {
      "text/plain": [
       "25"
      ]
     },
     "execution_count": 14,
     "metadata": {},
     "output_type": "execute_result"
    }
   ],
   "source": [
    "len(np_df)"
   ]
  },
  {
   "cell_type": "code",
   "execution_count": 22,
   "id": "9b069912",
   "metadata": {},
   "outputs": [],
   "source": [
    "distances = euclidean_distances(cent_coords, np_df)"
   ]
  },
  {
   "cell_type": "code",
   "execution_count": 23,
   "id": "69af056e",
   "metadata": {},
   "outputs": [
    {
     "data": {
      "text/plain": [
       "array([[ 8.94427191,  6.40312424,  3.16227766,  3.60555128,  5.        ,\n",
       "         7.21110255,  6.        ,  8.24621125, 11.04536102, 13.34166406,\n",
       "        11.04536102,  8.06225775,  3.60555128,  3.60555128,  8.60232527,\n",
       "         5.09901951,  5.83095189,  9.8488578 , 14.31782106, 14.4222051 ,\n",
       "        11.3137085 , 13.60147051, 11.18033989, 10.04987562, 11.18033989],\n",
       "       [ 5.38516481,  5.09901951,  6.40312424,  8.94427191, 10.29563014,\n",
       "        13.        , 12.04159458,  3.60555128,  5.38516481,  8.06225775,\n",
       "         5.        ,  2.        ,  3.16227766,  9.05538514, 12.52996409,\n",
       "         6.40312424,  5.        ,  4.24264069,  8.60232527,  9.21954446,\n",
       "         7.28010989, 10.19803903,  9.05538514, 11.40175425, 14.2126704 ],\n",
       "       [13.45362405, 11.66190379,  9.21954446,  9.05538514, 10.19803903,\n",
       "        11.18033989,  7.81024968, 12.04159458, 13.89244399, 16.64331698,\n",
       "        13.        , 10.29563014,  5.65685425,  4.47213595,  4.12310563,\n",
       "         2.23606798,  4.12310563, 10.19803903, 14.        , 13.15294644,\n",
       "         9.21954446, 10.29563014,  7.21110255,  4.        ,  5.65685425],\n",
       "       [10.19803903, 10.04987562, 10.29563014, 12.04159458, 13.45362405,\n",
       "        15.62049935, 13.41640786,  8.24621125,  8.60232527, 11.40175425,\n",
       "         7.07106781,  5.38516481,  5.        ,  9.8488578 , 11.04536102,\n",
       "         5.09901951,  3.16227766,  3.60555128,  7.        ,  6.32455532,\n",
       "         2.82842712,  5.38516481,  4.12310563,  8.06225775, 11.70469991]])"
      ]
     },
     "execution_count": 23,
     "metadata": {},
     "output_type": "execute_result"
    }
   ],
   "source": [
    "distances"
   ]
  },
  {
   "cell_type": "code",
   "execution_count": 24,
   "id": "5afe3c32",
   "metadata": {},
   "outputs": [
    {
     "data": {
      "text/plain": [
       "25"
      ]
     },
     "execution_count": 24,
     "metadata": {},
     "output_type": "execute_result"
    }
   ],
   "source": [
    "len(distances[0])"
   ]
  },
  {
   "cell_type": "code",
   "execution_count": 28,
   "id": "bcf43623",
   "metadata": {},
   "outputs": [],
   "source": [
    "points = np.array([np.min(i) for i in distances])"
   ]
  },
  {
   "cell_type": "code",
   "execution_count": 29,
   "id": "5e69dcf3",
   "metadata": {},
   "outputs": [
    {
     "data": {
      "text/plain": [
       "array([3.16227766, 2.        , 2.23606798, 2.82842712])"
      ]
     },
     "execution_count": 29,
     "metadata": {},
     "output_type": "execute_result"
    }
   ],
   "source": [
    "points"
   ]
  },
  {
   "cell_type": "code",
   "execution_count": 27,
   "id": "4df945ae",
   "metadata": {},
   "outputs": [
    {
     "data": {
      "text/plain": [
       "array([[ 2, -1],\n",
       "       [ 6,  6],\n",
       "       [10, -1],\n",
       "       [13,  6]], dtype=int64)"
      ]
     },
     "execution_count": 27,
     "metadata": {},
     "output_type": "execute_result"
    }
   ],
   "source": [
    "np_df[points]"
   ]
  },
  {
   "cell_type": "code",
   "execution_count": 21,
   "id": "396c143b",
   "metadata": {},
   "outputs": [
    {
     "name": "stdout",
     "output_type": "stream",
     "text": [
      "{7: [], 13: [], 18: [], 21: []}\n"
     ]
    }
   ],
   "source": [
    "clusters = {cent: [] for cent in centroids}\n",
    "print(clusters)"
   ]
  },
  {
   "cell_type": "code",
   "execution_count": null,
   "id": "5f726cca",
   "metadata": {},
   "outputs": [],
   "source": [
    "for i in range(np_df):\n",
    "    "
   ]
  },
  {
   "cell_type": "code",
   "execution_count": null,
   "id": "14f63a2c",
   "metadata": {},
   "outputs": [],
   "source": []
  },
  {
   "cell_type": "code",
   "execution_count": null,
   "id": "6793e22a",
   "metadata": {},
   "outputs": [],
   "source": []
  },
  {
   "cell_type": "code",
   "execution_count": null,
   "id": "387cf6ca",
   "metadata": {},
   "outputs": [],
   "source": []
  },
  {
   "cell_type": "code",
   "execution_count": null,
   "id": "1c0d4ac7",
   "metadata": {},
   "outputs": [],
   "source": []
  },
  {
   "cell_type": "code",
   "execution_count": null,
   "id": "527af320",
   "metadata": {},
   "outputs": [],
   "source": []
  },
  {
   "cell_type": "code",
   "execution_count": null,
   "id": "ea9ee0d1",
   "metadata": {},
   "outputs": [],
   "source": []
  },
  {
   "cell_type": "code",
   "execution_count": null,
   "id": "a3fdc9bd",
   "metadata": {},
   "outputs": [],
   "source": []
  },
  {
   "cell_type": "code",
   "execution_count": null,
   "id": "08c009be",
   "metadata": {},
   "outputs": [],
   "source": []
  },
  {
   "cell_type": "code",
   "execution_count": null,
   "id": "414818db",
   "metadata": {},
   "outputs": [],
   "source": []
  },
  {
   "cell_type": "code",
   "execution_count": null,
   "id": "5561fd6b",
   "metadata": {},
   "outputs": [],
   "source": []
  },
  {
   "cell_type": "code",
   "execution_count": null,
   "id": "9d464320",
   "metadata": {},
   "outputs": [],
   "source": []
  },
  {
   "cell_type": "code",
   "execution_count": null,
   "id": "852b7837",
   "metadata": {},
   "outputs": [],
   "source": []
  },
  {
   "cell_type": "code",
   "execution_count": null,
   "id": "017d1234",
   "metadata": {},
   "outputs": [],
   "source": [
    "#Defining our function \n",
    "def kmeans(x,k, no_of_iterations):\n",
    "    idx = np.random.choice(len(x), k, replace=False)\n",
    "    #Randomly choosing Centroids \n",
    "    centroids = x[idx, :] #Step 1\n",
    "     \n",
    "    #finding the distance between centroids and all the data points\n",
    "#     distances = cdist(x, centroids ,'euclidean') #Step 2\n",
    "    distances = euclidean_distances(np_df, np_df)\n",
    "    print(distances)\n",
    "    #Centroid with the minimum Distance\n",
    "    points = np.array([np.argmin(i) for i in distances]) #Step 3\n",
    "     \n",
    "    #Repeating the above steps for a defined number of iterations\n",
    "    #Step 4\n",
    "    for _ in range(no_of_iterations): \n",
    "        centroids = []\n",
    "        for idx in range(k):\n",
    "            #Updating Centroids by taking mean of Cluster it belongs to\n",
    "            temp_cent = x[points==idx].mean(axis=0) \n",
    "            centroids.append(temp_cent)\n",
    " \n",
    "        centroids = np.vstack(centroids) #Updated Centroids \n",
    "         \n",
    "        distances = cdist(x, centroids ,'euclidean')\n",
    "        points = np.array([np.argmin(i) for i in distances])\n",
    "         \n",
    "    return points \n",
    " "
   ]
  },
  {
   "cell_type": "code",
   "execution_count": null,
   "id": "299e1657",
   "metadata": {},
   "outputs": [],
   "source": [
    " \n",
    "#Applying our function\n",
    "label = kmeans(np_df,4,30)"
   ]
  },
  {
   "cell_type": "code",
   "execution_count": null,
   "id": "a1da1699",
   "metadata": {},
   "outputs": [],
   "source": [
    "label"
   ]
  },
  {
   "cell_type": "code",
   "execution_count": null,
   "id": "be493c4d",
   "metadata": {},
   "outputs": [],
   "source": []
  },
  {
   "cell_type": "code",
   "execution_count": null,
   "id": "92d7868c",
   "metadata": {},
   "outputs": [],
   "source": [
    "label1 = kmeans(np_df,3,30)"
   ]
  },
  {
   "cell_type": "code",
   "execution_count": null,
   "id": "aed84397",
   "metadata": {},
   "outputs": [],
   "source": [
    "label1"
   ]
  },
  {
   "cell_type": "code",
   "execution_count": null,
   "id": "c97dc092",
   "metadata": {},
   "outputs": [],
   "source": [
    "label2 = kmeans(np_df,4,50)"
   ]
  },
  {
   "cell_type": "code",
   "execution_count": null,
   "id": "15a0e703",
   "metadata": {},
   "outputs": [],
   "source": [
    "label2"
   ]
  },
  {
   "cell_type": "code",
   "execution_count": null,
   "id": "ae69c38a",
   "metadata": {},
   "outputs": [],
   "source": [
    "label3 = kmeans(np_df,4,10)"
   ]
  },
  {
   "cell_type": "code",
   "execution_count": null,
   "id": "f8b2e95c",
   "metadata": {},
   "outputs": [],
   "source": []
  },
  {
   "cell_type": "code",
   "execution_count": null,
   "id": "a1f5c02c",
   "metadata": {},
   "outputs": [],
   "source": []
  },
  {
   "cell_type": "code",
   "execution_count": null,
   "id": "f92b14b9",
   "metadata": {},
   "outputs": [],
   "source": []
  }
 ],
 "metadata": {
  "kernelspec": {
   "display_name": "Python 3 (ipykernel)",
   "language": "python",
   "name": "python3"
  },
  "language_info": {
   "codemirror_mode": {
    "name": "ipython",
    "version": 3
   },
   "file_extension": ".py",
   "mimetype": "text/x-python",
   "name": "python",
   "nbconvert_exporter": "python",
   "pygments_lexer": "ipython3",
   "version": "3.10.4"
  }
 },
 "nbformat": 4,
 "nbformat_minor": 5
}
